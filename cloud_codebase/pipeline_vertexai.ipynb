{
 "cells": [
  {
   "cell_type": "code",
   "execution_count": 7,
   "id": "f4bb7261-4ad6-4054-b8b6-342719fd6a7e",
   "metadata": {
    "tags": []
   },
   "outputs": [
    {
     "name": "stdout",
     "output_type": "stream",
     "text": [
      "Requirement already satisfied: pip in /opt/conda/lib/python3.10/site-packages (24.0)\n",
      "Note: you may need to restart the kernel to use updated packages.\n"
     ]
    }
   ],
   "source": [
    "pip install --upgrade pip"
   ]
  },
  {
   "cell_type": "code",
   "execution_count": 1,
   "id": "c335e5be-1a9f-4ae1-b43f-44bec4c41b79",
   "metadata": {
    "tags": []
   },
   "outputs": [
    {
     "name": "stdout",
     "output_type": "stream",
     "text": [
      "Name: kfp\n",
      "Version: 2.7.0\n",
      "Summary: Kubeflow Pipelines SDK\n",
      "Home-page: https://github.com/kubeflow/pipelines\n",
      "Author: The Kubeflow Authors\n",
      "Author-email: \n",
      "License: \n",
      "Location: /opt/conda/lib/python3.10/site-packages\n",
      "Requires: click, docstring-parser, google-api-core, google-auth, google-cloud-storage, kfp-pipeline-spec, kfp-server-api, kubernetes, protobuf, PyYAML, requests-toolbelt, tabulate, urllib3\n",
      "Required-by: kfp-kubernetes\n"
     ]
    }
   ],
   "source": [
    "!pip show kfp"
   ]
  },
  {
   "cell_type": "code",
   "execution_count": 4,
   "id": "cbe3e97c-8f86-4749-80a1-a7fbbd4d1ed9",
   "metadata": {
    "tags": []
   },
   "outputs": [
    {
     "name": "stdout",
     "output_type": "stream",
     "text": [
      "Requirement already satisfied: click in /opt/conda/lib/python3.10/site-packages (8.1.7)\n",
      "Requirement already satisfied: docstring-parser in /opt/conda/lib/python3.10/site-packages (0.16)\n",
      "Requirement already satisfied: google-api-core in /opt/conda/lib/python3.10/site-packages (2.11.1)\n",
      "Requirement already satisfied: google-auth in /opt/conda/lib/python3.10/site-packages (2.29.0)\n",
      "Requirement already satisfied: google-cloud-storage in /opt/conda/lib/python3.10/site-packages (2.14.0)\n",
      "Requirement already satisfied: kfp-pipeline-spec in /opt/conda/lib/python3.10/site-packages (0.3.0)\n",
      "Requirement already satisfied: kfp-server-api in /opt/conda/lib/python3.10/site-packages (2.0.5)\n",
      "Requirement already satisfied: kubernetes in /opt/conda/lib/python3.10/site-packages (26.1.0)\n",
      "Requirement already satisfied: protobuf in /opt/conda/lib/python3.10/site-packages (4.25.3)\n",
      "Requirement already satisfied: PyYAML in /opt/conda/lib/python3.10/site-packages (6.0.1)\n",
      "Requirement already satisfied: requests-toolbelt in /opt/conda/lib/python3.10/site-packages (0.10.1)\n",
      "Requirement already satisfied: tabulate in /opt/conda/lib/python3.10/site-packages (0.9.0)\n",
      "Requirement already satisfied: urllib3 in /opt/conda/lib/python3.10/site-packages (1.26.18)\n",
      "Requirement already satisfied: googleapis-common-protos<2.0.dev0,>=1.56.2 in /opt/conda/lib/python3.10/site-packages (from google-api-core) (1.63.0)\n",
      "Requirement already satisfied: requests<3.0.0.dev0,>=2.18.0 in /opt/conda/lib/python3.10/site-packages (from google-api-core) (2.31.0)\n",
      "Requirement already satisfied: cachetools<6.0,>=2.0.0 in /opt/conda/lib/python3.10/site-packages (from google-auth) (4.2.4)\n",
      "Requirement already satisfied: pyasn1-modules>=0.2.1 in /opt/conda/lib/python3.10/site-packages (from google-auth) (0.4.0)\n",
      "Requirement already satisfied: rsa<5,>=3.1.4 in /opt/conda/lib/python3.10/site-packages (from google-auth) (4.9)\n",
      "Requirement already satisfied: google-cloud-core<3.0dev,>=2.3.0 in /opt/conda/lib/python3.10/site-packages (from google-cloud-storage) (2.4.1)\n",
      "Requirement already satisfied: google-resumable-media>=2.6.0 in /opt/conda/lib/python3.10/site-packages (from google-cloud-storage) (2.7.0)\n",
      "Requirement already satisfied: google-crc32c<2.0dev,>=1.0 in /opt/conda/lib/python3.10/site-packages (from google-cloud-storage) (1.5.0)\n",
      "Requirement already satisfied: six>=1.10 in /opt/conda/lib/python3.10/site-packages (from kfp-server-api) (1.16.0)\n",
      "Requirement already satisfied: certifi in /opt/conda/lib/python3.10/site-packages (from kfp-server-api) (2024.2.2)\n",
      "Requirement already satisfied: python-dateutil in /opt/conda/lib/python3.10/site-packages (from kfp-server-api) (2.9.0)\n",
      "Requirement already satisfied: setuptools>=21.0.0 in /opt/conda/lib/python3.10/site-packages (from kubernetes) (69.5.1)\n",
      "Requirement already satisfied: websocket-client!=0.40.0,!=0.41.*,!=0.42.*,>=0.32.0 in /opt/conda/lib/python3.10/site-packages (from kubernetes) (1.8.0)\n",
      "Requirement already satisfied: requests-oauthlib in /opt/conda/lib/python3.10/site-packages (from kubernetes) (2.0.0)\n",
      "Requirement already satisfied: pyasn1<0.7.0,>=0.4.6 in /opt/conda/lib/python3.10/site-packages (from pyasn1-modules>=0.2.1->google-auth) (0.6.0)\n",
      "Requirement already satisfied: charset-normalizer<4,>=2 in /opt/conda/lib/python3.10/site-packages (from requests<3.0.0.dev0,>=2.18.0->google-api-core) (3.3.2)\n",
      "Requirement already satisfied: idna<4,>=2.5 in /opt/conda/lib/python3.10/site-packages (from requests<3.0.0.dev0,>=2.18.0->google-api-core) (3.7)\n",
      "Requirement already satisfied: oauthlib>=3.0.0 in /opt/conda/lib/python3.10/site-packages (from requests-oauthlib->kubernetes) (3.2.2)\n"
     ]
    }
   ],
   "source": [
    "!pip install click docstring-parser  google-api-core google-auth google-cloud-storage kfp-pipeline-spec kfp-server-api kubernetes protobuf PyYAML requests-toolbelt tabulate urllib3"
   ]
  },
  {
   "cell_type": "code",
   "execution_count": 28,
   "id": "0e652ed6-f30e-419f-99cf-563b8b66a29e",
   "metadata": {
    "tags": []
   },
   "outputs": [
    {
     "name": "stdout",
     "output_type": "stream",
     "text": [
      "Requirement already satisfied: kfp in /opt/conda/lib/python3.10/site-packages (2.7.0)\n",
      "Requirement already satisfied: click<9,>=8.0.0 in /opt/conda/lib/python3.10/site-packages (from kfp) (8.1.7)\n",
      "Requirement already satisfied: docstring-parser<1,>=0.7.3 in /opt/conda/lib/python3.10/site-packages (from kfp) (0.16)\n",
      "Requirement already satisfied: google-api-core!=2.0.*,!=2.1.*,!=2.2.*,!=2.3.0,<3.0.0dev,>=1.31.5 in /opt/conda/lib/python3.10/site-packages (from kfp) (2.11.1)\n",
      "Requirement already satisfied: google-auth<3,>=1.6.1 in /opt/conda/lib/python3.10/site-packages (from kfp) (2.29.0)\n",
      "Requirement already satisfied: google-cloud-storage<3,>=2.2.1 in /opt/conda/lib/python3.10/site-packages (from kfp) (2.14.0)\n",
      "Requirement already satisfied: kfp-pipeline-spec==0.3.0 in /opt/conda/lib/python3.10/site-packages (from kfp) (0.3.0)\n",
      "Requirement already satisfied: kfp-server-api<2.1.0,>=2.0.0 in /opt/conda/lib/python3.10/site-packages (from kfp) (2.0.5)\n",
      "Requirement already satisfied: kubernetes<27,>=8.0.0 in /opt/conda/lib/python3.10/site-packages (from kfp) (26.1.0)\n",
      "Requirement already satisfied: protobuf<5,>=4.21.1 in /opt/conda/lib/python3.10/site-packages (from kfp) (4.25.3)\n",
      "Requirement already satisfied: PyYAML<7,>=5.3 in /opt/conda/lib/python3.10/site-packages (from kfp) (6.0.1)\n",
      "Requirement already satisfied: requests-toolbelt<1,>=0.8.0 in /opt/conda/lib/python3.10/site-packages (from kfp) (0.10.1)\n",
      "Requirement already satisfied: tabulate<1,>=0.8.6 in /opt/conda/lib/python3.10/site-packages (from kfp) (0.9.0)\n",
      "Requirement already satisfied: urllib3<2.0.0 in /opt/conda/lib/python3.10/site-packages (from kfp) (1.26.18)\n",
      "Requirement already satisfied: googleapis-common-protos<2.0.dev0,>=1.56.2 in /opt/conda/lib/python3.10/site-packages (from google-api-core!=2.0.*,!=2.1.*,!=2.2.*,!=2.3.0,<3.0.0dev,>=1.31.5->kfp) (1.63.0)\n",
      "Requirement already satisfied: requests<3.0.0.dev0,>=2.18.0 in /opt/conda/lib/python3.10/site-packages (from google-api-core!=2.0.*,!=2.1.*,!=2.2.*,!=2.3.0,<3.0.0dev,>=1.31.5->kfp) (2.31.0)\n",
      "Requirement already satisfied: cachetools<6.0,>=2.0.0 in /opt/conda/lib/python3.10/site-packages (from google-auth<3,>=1.6.1->kfp) (4.2.4)\n",
      "Requirement already satisfied: pyasn1-modules>=0.2.1 in /opt/conda/lib/python3.10/site-packages (from google-auth<3,>=1.6.1->kfp) (0.4.0)\n",
      "Requirement already satisfied: rsa<5,>=3.1.4 in /opt/conda/lib/python3.10/site-packages (from google-auth<3,>=1.6.1->kfp) (4.9)\n",
      "Requirement already satisfied: google-cloud-core<3.0dev,>=2.3.0 in /opt/conda/lib/python3.10/site-packages (from google-cloud-storage<3,>=2.2.1->kfp) (2.4.1)\n",
      "Requirement already satisfied: google-resumable-media>=2.6.0 in /opt/conda/lib/python3.10/site-packages (from google-cloud-storage<3,>=2.2.1->kfp) (2.7.0)\n",
      "Requirement already satisfied: google-crc32c<2.0dev,>=1.0 in /opt/conda/lib/python3.10/site-packages (from google-cloud-storage<3,>=2.2.1->kfp) (1.5.0)\n",
      "Requirement already satisfied: six>=1.10 in /opt/conda/lib/python3.10/site-packages (from kfp-server-api<2.1.0,>=2.0.0->kfp) (1.16.0)\n",
      "Requirement already satisfied: certifi in /opt/conda/lib/python3.10/site-packages (from kfp-server-api<2.1.0,>=2.0.0->kfp) (2024.2.2)\n",
      "Requirement already satisfied: python-dateutil in /opt/conda/lib/python3.10/site-packages (from kfp-server-api<2.1.0,>=2.0.0->kfp) (2.9.0)\n",
      "Requirement already satisfied: setuptools>=21.0.0 in /opt/conda/lib/python3.10/site-packages (from kubernetes<27,>=8.0.0->kfp) (69.5.1)\n",
      "Requirement already satisfied: websocket-client!=0.40.0,!=0.41.*,!=0.42.*,>=0.32.0 in /opt/conda/lib/python3.10/site-packages (from kubernetes<27,>=8.0.0->kfp) (1.8.0)\n",
      "Requirement already satisfied: requests-oauthlib in /opt/conda/lib/python3.10/site-packages (from kubernetes<27,>=8.0.0->kfp) (2.0.0)\n",
      "Requirement already satisfied: pyasn1<0.7.0,>=0.4.6 in /opt/conda/lib/python3.10/site-packages (from pyasn1-modules>=0.2.1->google-auth<3,>=1.6.1->kfp) (0.6.0)\n",
      "Requirement already satisfied: charset-normalizer<4,>=2 in /opt/conda/lib/python3.10/site-packages (from requests<3.0.0.dev0,>=2.18.0->google-api-core!=2.0.*,!=2.1.*,!=2.2.*,!=2.3.0,<3.0.0dev,>=1.31.5->kfp) (3.3.2)\n",
      "Requirement already satisfied: idna<4,>=2.5 in /opt/conda/lib/python3.10/site-packages (from requests<3.0.0.dev0,>=2.18.0->google-api-core!=2.0.*,!=2.1.*,!=2.2.*,!=2.3.0,<3.0.0dev,>=1.31.5->kfp) (3.7)\n",
      "Requirement already satisfied: oauthlib>=3.0.0 in /opt/conda/lib/python3.10/site-packages (from requests-oauthlib->kubernetes<27,>=8.0.0->kfp) (3.2.2)\n"
     ]
    }
   ],
   "source": [
    "!pip install --upgrade kfp"
   ]
  },
  {
   "cell_type": "code",
   "execution_count": 45,
   "id": "c43579da-106f-4e77-9958-2a816c92866b",
   "metadata": {
    "tags": []
   },
   "outputs": [
    {
     "name": "stdout",
     "output_type": "stream",
     "text": [
      "Requirement already satisfied: kfp-kubernetes in /opt/conda/lib/python3.10/site-packages (1.2.0)\n",
      "Requirement already satisfied: protobuf<5,>=4.21.1 in /opt/conda/lib/python3.10/site-packages (from kfp-kubernetes) (4.25.3)\n",
      "Requirement already satisfied: kfp<3,>=2.6.0 in /opt/conda/lib/python3.10/site-packages (from kfp-kubernetes) (2.7.0)\n",
      "Requirement already satisfied: click<9,>=8.0.0 in /opt/conda/lib/python3.10/site-packages (from kfp<3,>=2.6.0->kfp-kubernetes) (8.1.7)\n",
      "Requirement already satisfied: docstring-parser<1,>=0.7.3 in /opt/conda/lib/python3.10/site-packages (from kfp<3,>=2.6.0->kfp-kubernetes) (0.16)\n",
      "Requirement already satisfied: google-api-core!=2.0.*,!=2.1.*,!=2.2.*,!=2.3.0,<3.0.0dev,>=1.31.5 in /opt/conda/lib/python3.10/site-packages (from kfp<3,>=2.6.0->kfp-kubernetes) (2.11.1)\n",
      "Requirement already satisfied: google-auth<3,>=1.6.1 in /opt/conda/lib/python3.10/site-packages (from kfp<3,>=2.6.0->kfp-kubernetes) (2.29.0)\n",
      "Requirement already satisfied: google-cloud-storage<3,>=2.2.1 in /opt/conda/lib/python3.10/site-packages (from kfp<3,>=2.6.0->kfp-kubernetes) (2.14.0)\n",
      "Requirement already satisfied: kfp-pipeline-spec==0.3.0 in /opt/conda/lib/python3.10/site-packages (from kfp<3,>=2.6.0->kfp-kubernetes) (0.3.0)\n",
      "Requirement already satisfied: kfp-server-api<2.1.0,>=2.0.0 in /opt/conda/lib/python3.10/site-packages (from kfp<3,>=2.6.0->kfp-kubernetes) (2.0.5)\n",
      "Requirement already satisfied: kubernetes<27,>=8.0.0 in /opt/conda/lib/python3.10/site-packages (from kfp<3,>=2.6.0->kfp-kubernetes) (26.1.0)\n",
      "Requirement already satisfied: PyYAML<7,>=5.3 in /opt/conda/lib/python3.10/site-packages (from kfp<3,>=2.6.0->kfp-kubernetes) (6.0.1)\n",
      "Requirement already satisfied: requests-toolbelt<1,>=0.8.0 in /opt/conda/lib/python3.10/site-packages (from kfp<3,>=2.6.0->kfp-kubernetes) (0.10.1)\n",
      "Requirement already satisfied: tabulate<1,>=0.8.6 in /opt/conda/lib/python3.10/site-packages (from kfp<3,>=2.6.0->kfp-kubernetes) (0.9.0)\n",
      "Requirement already satisfied: urllib3<2.0.0 in /opt/conda/lib/python3.10/site-packages (from kfp<3,>=2.6.0->kfp-kubernetes) (1.26.18)\n",
      "Requirement already satisfied: googleapis-common-protos<2.0.dev0,>=1.56.2 in /opt/conda/lib/python3.10/site-packages (from google-api-core!=2.0.*,!=2.1.*,!=2.2.*,!=2.3.0,<3.0.0dev,>=1.31.5->kfp<3,>=2.6.0->kfp-kubernetes) (1.63.0)\n",
      "Requirement already satisfied: requests<3.0.0.dev0,>=2.18.0 in /opt/conda/lib/python3.10/site-packages (from google-api-core!=2.0.*,!=2.1.*,!=2.2.*,!=2.3.0,<3.0.0dev,>=1.31.5->kfp<3,>=2.6.0->kfp-kubernetes) (2.31.0)\n",
      "Requirement already satisfied: cachetools<6.0,>=2.0.0 in /opt/conda/lib/python3.10/site-packages (from google-auth<3,>=1.6.1->kfp<3,>=2.6.0->kfp-kubernetes) (4.2.4)\n",
      "Requirement already satisfied: pyasn1-modules>=0.2.1 in /opt/conda/lib/python3.10/site-packages (from google-auth<3,>=1.6.1->kfp<3,>=2.6.0->kfp-kubernetes) (0.4.0)\n",
      "Requirement already satisfied: rsa<5,>=3.1.4 in /opt/conda/lib/python3.10/site-packages (from google-auth<3,>=1.6.1->kfp<3,>=2.6.0->kfp-kubernetes) (4.9)\n",
      "Requirement already satisfied: google-cloud-core<3.0dev,>=2.3.0 in /opt/conda/lib/python3.10/site-packages (from google-cloud-storage<3,>=2.2.1->kfp<3,>=2.6.0->kfp-kubernetes) (2.4.1)\n",
      "Requirement already satisfied: google-resumable-media>=2.6.0 in /opt/conda/lib/python3.10/site-packages (from google-cloud-storage<3,>=2.2.1->kfp<3,>=2.6.0->kfp-kubernetes) (2.7.0)\n",
      "Requirement already satisfied: google-crc32c<2.0dev,>=1.0 in /opt/conda/lib/python3.10/site-packages (from google-cloud-storage<3,>=2.2.1->kfp<3,>=2.6.0->kfp-kubernetes) (1.5.0)\n",
      "Requirement already satisfied: six>=1.10 in /opt/conda/lib/python3.10/site-packages (from kfp-server-api<2.1.0,>=2.0.0->kfp<3,>=2.6.0->kfp-kubernetes) (1.16.0)\n",
      "Requirement already satisfied: certifi in /opt/conda/lib/python3.10/site-packages (from kfp-server-api<2.1.0,>=2.0.0->kfp<3,>=2.6.0->kfp-kubernetes) (2024.2.2)\n",
      "Requirement already satisfied: python-dateutil in /opt/conda/lib/python3.10/site-packages (from kfp-server-api<2.1.0,>=2.0.0->kfp<3,>=2.6.0->kfp-kubernetes) (2.9.0)\n",
      "Requirement already satisfied: setuptools>=21.0.0 in /opt/conda/lib/python3.10/site-packages (from kubernetes<27,>=8.0.0->kfp<3,>=2.6.0->kfp-kubernetes) (69.5.1)\n",
      "Requirement already satisfied: websocket-client!=0.40.0,!=0.41.*,!=0.42.*,>=0.32.0 in /opt/conda/lib/python3.10/site-packages (from kubernetes<27,>=8.0.0->kfp<3,>=2.6.0->kfp-kubernetes) (1.8.0)\n",
      "Requirement already satisfied: requests-oauthlib in /opt/conda/lib/python3.10/site-packages (from kubernetes<27,>=8.0.0->kfp<3,>=2.6.0->kfp-kubernetes) (2.0.0)\n",
      "Requirement already satisfied: pyasn1<0.7.0,>=0.4.6 in /opt/conda/lib/python3.10/site-packages (from pyasn1-modules>=0.2.1->google-auth<3,>=1.6.1->kfp<3,>=2.6.0->kfp-kubernetes) (0.6.0)\n",
      "Requirement already satisfied: charset-normalizer<4,>=2 in /opt/conda/lib/python3.10/site-packages (from requests<3.0.0.dev0,>=2.18.0->google-api-core!=2.0.*,!=2.1.*,!=2.2.*,!=2.3.0,<3.0.0dev,>=1.31.5->kfp<3,>=2.6.0->kfp-kubernetes) (3.3.2)\n",
      "Requirement already satisfied: idna<4,>=2.5 in /opt/conda/lib/python3.10/site-packages (from requests<3.0.0.dev0,>=2.18.0->google-api-core!=2.0.*,!=2.1.*,!=2.2.*,!=2.3.0,<3.0.0dev,>=1.31.5->kfp<3,>=2.6.0->kfp-kubernetes) (3.7)\n",
      "Requirement already satisfied: oauthlib>=3.0.0 in /opt/conda/lib/python3.10/site-packages (from requests-oauthlib->kubernetes<27,>=8.0.0->kfp<3,>=2.6.0->kfp-kubernetes) (3.2.2)\n"
     ]
    }
   ],
   "source": [
    "!pip install kfp-kubernetes"
   ]
  },
  {
   "cell_type": "code",
   "execution_count": 1,
   "id": "e88078ab-2de5-45ce-868f-b14b77978132",
   "metadata": {
    "tags": []
   },
   "outputs": [
    {
     "name": "stdout",
     "output_type": "stream",
     "text": [
      "Reading package lists... Done\n",
      "Building dependency tree... Done\n",
      "Reading state information... Done\n",
      "google-cloud-cli-gke-gcloud-auth-plugin is already the newest version (476.0.0-0).\n",
      "0 upgraded, 0 newly installed, 0 to remove and 2 not upgraded.\n"
     ]
    }
   ],
   "source": [
    "!sudo apt-get install google-cloud-cli-gke-gcloud-auth-plugin"
   ]
  },
  {
   "cell_type": "code",
   "execution_count": 23,
   "id": "caed1edf-5270-4ef7-97ab-f036d3fa60ef",
   "metadata": {
    "tags": []
   },
   "outputs": [
    {
     "name": "stdout",
     "output_type": "stream",
     "text": [
      "Fetching cluster endpoint and auth data.\n",
      "kubeconfig entry generated for cluster-1.\n"
     ]
    }
   ],
   "source": [
    "!gcloud container clusters get-credentials cluster-1 --zone us-central1-a --project mtp-yusuf"
   ]
  },
  {
   "cell_type": "code",
   "execution_count": 21,
   "id": "bd1e39ab-13df-4db0-9eb5-5c37214d0d23",
   "metadata": {
    "tags": []
   },
   "outputs": [
    {
     "data": {
      "text/plain": [
       "'mtp-yusuf'"
      ]
     },
     "execution_count": 21,
     "metadata": {},
     "output_type": "execute_result"
    }
   ],
   "source": [
    "project = !gcloud config get-value project\n",
    "project_id = project[0]\n",
    "project_id"
   ]
  },
  {
   "cell_type": "code",
   "execution_count": 22,
   "id": "730c3d04-df58-404a-8155-72443340c0f1",
   "metadata": {
    "tags": []
   },
   "outputs": [],
   "source": [
    "REGION = 'us-central1'\n",
    "DATANAME = 'myModel'\n",
    "NOTEBOOK = 'mynotebook'\n",
    "\n",
    "# Resources\n",
    "DEPLOY_COMPUTE = 'n1-standard-2'"
   ]
  },
  {
   "cell_type": "code",
   "execution_count": 23,
   "id": "6491159f-0c01-4844-9adc-6ea59f481803",
   "metadata": {
    "tags": []
   },
   "outputs": [],
   "source": [
    "from google.cloud import aiplatform\n",
    "from datetime import datetime\n",
    "import kfp\n",
    "from kfp import compiler\n",
    "#import kfp.v2.dsl as dsl\n",
    "\n",
    "from google.cloud import bigquery\n",
    "from google.protobuf import json_format\n",
    "from google.protobuf.struct_pb2 import Value\n",
    "import json\n",
    "import numpy as np"
   ]
  },
  {
   "cell_type": "code",
   "execution_count": 24,
   "id": "6024fbd7-d789-435a-8a8b-0151b1fea46b",
   "metadata": {
    "tags": []
   },
   "outputs": [],
   "source": [
    "aiplatform.init(project=project_id, location=REGION)\n",
    "bq = bigquery.Client()"
   ]
  },
  {
   "cell_type": "code",
   "execution_count": 25,
   "id": "aaf29667-9555-4ba7-9389-12909943a353",
   "metadata": {
    "tags": []
   },
   "outputs": [
    {
     "data": {
      "text/plain": [
       "'1042216787272-compute@developer.gserviceaccount.com'"
      ]
     },
     "execution_count": 25,
     "metadata": {},
     "output_type": "execute_result"
    }
   ],
   "source": [
    "service_account = !gcloud config list --format='value(core.account)' \n",
    "service_account = service_account[0]\n",
    "service_account"
   ]
  },
  {
   "cell_type": "code",
   "execution_count": 26,
   "id": "62a70801-5205-4ee6-baf8-df13405f46c8",
   "metadata": {
    "tags": []
   },
   "outputs": [],
   "source": [
    "TIMESTAMP = datetime.now().strftime(\"%Y%m%d%H%M%S\")\n",
    "BUCKET = 'mtp-yusuf-kubeflowpipelines-default'\n",
    "URI = f\"gs://{BUCKET}/{DATANAME}/models/{NOTEBOOK}\"\n",
    "DIR = f\"temp/{NOTEBOOK}\""
   ]
  },
  {
   "cell_type": "code",
   "execution_count": 27,
   "id": "02ca3afd-4730-47ce-8f5f-2a59d0f29e7e",
   "metadata": {
    "tags": []
   },
   "outputs": [],
   "source": [
    "!rm -rf {DIR}\n",
    "!mkdir -p {DIR}"
   ]
  },
  {
   "cell_type": "code",
   "execution_count": 28,
   "id": "79514265-0c5d-476f-9b10-e2c966d0ab81",
   "metadata": {
    "tags": []
   },
   "outputs": [],
   "source": [
    "import kfp\n",
    "import kfp.components as comp\n",
    "import requests\n",
    "import kfp.dsl as dsl"
   ]
  },
  {
   "cell_type": "code",
   "execution_count": 29,
   "id": "8bd018d4-080e-402b-b04a-b21b70401ce0",
   "metadata": {
    "tags": []
   },
   "outputs": [],
   "source": [
    "@dsl.component(\n",
    "    base_image='python:3.8',\n",
    "    packages_to_install=['google-cloud-storage','pandas','gcsfs']\n",
    ")\n",
    "def data_preparation() -> str:\n",
    "    # Write data to GCS bucket\n",
    "    from google.cloud import storage\n",
    "    import pandas as pd\n",
    "    \n",
    "    bucket_name = 'mtp-yusuf-kubeflowpipelines-default'\n",
    "    file_path = 'data/processed_dataset.csv'  # Updated file path\n",
    "\n",
    "    # Load dataset\n",
    "    df = pd.read_csv(\"gs://mtp-yusuf-kubeflowpipelines-default/data/iris.csv\")\n",
    "    df = df.dropna()\n",
    "    \n",
    "    # Save dataframe to CSV string\n",
    "    csv_string = df.to_csv(index=False)\n",
    "\n",
    "    storage_client = storage.Client()\n",
    "    bucket = storage_client.bucket(bucket_name)\n",
    "    blob = bucket.blob(file_path)\n",
    "    blob.upload_from_string(csv_string)\n",
    "\n",
    "    return f'gs://{bucket_name}/{file_path}'"
   ]
  },
  {
   "cell_type": "code",
   "execution_count": 30,
   "id": "a72e7b3d-20ac-4410-870d-31b2014181cf",
   "metadata": {
    "tags": []
   },
   "outputs": [],
   "source": [
    "@dsl.component(\n",
    "    base_image='python:3.8',\n",
    "    packages_to_install=['google-cloud-storage','pandas','numpy','scikit-learn','gcsfs']\n",
    ")\n",
    "def train_test_split() -> str:\n",
    "    # Write data to GCS bucket\n",
    "    from google.cloud import storage\n",
    "    import pandas as pd\n",
    "    import numpy as np\n",
    "    from sklearn.model_selection import train_test_split\n",
    "    \n",
    "    bucket_name = 'mtp-yusuf-kubeflowpipelines-default'\n",
    "    \n",
    "    # Load and preprocess data\n",
    "    final_data = pd.read_csv(\"gs://mtp-yusuf-kubeflowpipelines-default/data/processed_dataset.csv\")  # Assuming final_df.csv is already uploaded to GCS\n",
    "    \n",
    "    target_column = 'class'\n",
    "    X = final_data.loc[:, final_data.columns != target_column]\n",
    "    y = final_data.loc[:, final_data.columns == target_column]\n",
    "    \n",
    "    # Split data\n",
    "    X_train, X_test, y_train, y_test = train_test_split(X, y, test_size=0.3, stratify=y, random_state=47)\n",
    "    \n",
    "    # Save arrays to GCS bucket\n",
    "    storage_client = storage.Client()\n",
    "    bucket = storage_client.bucket(bucket_name)\n",
    "    \n",
    "    # Save X_train\n",
    "    X_train_blob = bucket.blob('data/X_train.npy')\n",
    "    with X_train_blob.open(\"wb\") as f:\n",
    "        np.save(f, X_train)\n",
    "    \n",
    "    # Save X_test\n",
    "    X_test_blob = bucket.blob('data/X_test.npy')\n",
    "    with X_test_blob.open(\"wb\") as f:\n",
    "        np.save(f, X_test)\n",
    "    \n",
    "    # Save y_train\n",
    "    y_train_blob = bucket.blob('data/y_train.npy')\n",
    "    with y_train_blob.open(\"wb\") as f:\n",
    "        np.save(f, y_train)\n",
    "    \n",
    "    # Save y_test\n",
    "    y_test_blob = bucket.blob('data/y_test.npy')\n",
    "    with y_test_blob.open(\"wb\") as f:\n",
    "        np.save(f, y_test)\n",
    "    \n",
    "    return f'gs://{bucket_name}/data/'\n"
   ]
  },
  {
   "cell_type": "code",
   "execution_count": 31,
   "id": "16f1591f-a0ac-4a90-b863-c88224779c04",
   "metadata": {
    "tags": []
   },
   "outputs": [],
   "source": [
    "@dsl.component(\n",
    "    base_image='python:3.8',\n",
    "    packages_to_install=['google-cloud-storage','pandas','numpy','scikit-learn','gcsfs']\n",
    ")\n",
    "def training() -> str:\n",
    "    # Write data to GCS bucket\n",
    "    from google.cloud import storage\n",
    "    import pandas as pd\n",
    "    import numpy as np\n",
    "    from sklearn.linear_model import LogisticRegression\n",
    "    \n",
    "    bucket_name = 'mtp-yusuf-kubeflowpipelines-default'\n",
    "    \n",
    "    # Load data\n",
    "    storage_client = storage.Client()\n",
    "    bucket = storage_client.bucket(bucket_name)\n",
    "    \n",
    "    # Load X_train and y_train from GCS\n",
    "    X_train_blob = bucket.blob('data/X_train.npy')\n",
    "    with X_train_blob.open(\"rb\") as f:\n",
    "        X_train = np.load(f, allow_pickle=True)\n",
    "    \n",
    "    y_train_blob = bucket.blob('data/y_train.npy')\n",
    "    with y_train_blob.open(\"rb\") as f:\n",
    "        y_train = np.load(f, allow_pickle=True)\n",
    "    \n",
    "    # Train classifier\n",
    "    classifier = LogisticRegression(max_iter=500)\n",
    "    classifier.fit(X_train, y_train)\n",
    "    \n",
    "    # Save trained model to GCS\n",
    "    model_blob = bucket.blob('data/model.pkl')\n",
    "    with model_blob.open(\"wb\") as f:\n",
    "        import pickle\n",
    "        pickle.dump(classifier, f)\n",
    "    \n",
    "    return f'gs://{bucket_name}/data/'\n",
    "\n"
   ]
  },
  {
   "cell_type": "code",
   "execution_count": 32,
   "id": "d1771c73-8f4a-474a-a4cb-b3494ce6529c",
   "metadata": {
    "tags": []
   },
   "outputs": [],
   "source": [
    "@dsl.component(\n",
    "    base_image='python:3.8',\n",
    "    packages_to_install=['google-cloud-storage','pandas','numpy','scikit-learn']\n",
    ")\n",
    "def predictions() -> str:\n",
    "    # Write data to GCS bucket\n",
    "    from google.cloud import storage\n",
    "    import pandas as pd\n",
    "    import numpy as np\n",
    "    import pickle\n",
    "    \n",
    "    bucket_name = 'mtp-yusuf-kubeflowpipelines-default'\n",
    "    \n",
    "    # Load data\n",
    "    storage_client = storage.Client()\n",
    "    bucket = storage_client.bucket(bucket_name)\n",
    "    \n",
    "    # Load model from GCS\n",
    "    model_blob = bucket.blob('data/model.pkl')\n",
    "    with model_blob.open(\"rb\") as f:\n",
    "        logistic_reg_model = pickle.load(f)\n",
    "    \n",
    "    # Load X_test from GCS\n",
    "    X_test_blob = bucket.blob('data/X_test.npy')\n",
    "    with X_test_blob.open(\"rb\") as f:\n",
    "        X_test = np.load(f, allow_pickle=True)\n",
    "    print(\"1\")\n",
    "    \n",
    "    # Predict on test data\n",
    "    y_pred = logistic_reg_model.predict(X_test)\n",
    "    print(\"2\")\n",
    "    \n",
    "    # Save predictions to GCS\n",
    "    y_pred_blob = bucket.blob('data/y_pred.npy')\n",
    "    with y_pred_blob.open(\"wb\") as f:\n",
    "        np.save(f, y_pred)\n",
    "    print(\"3\")\n",
    "    return f'gs://{bucket_name}/data/'\n"
   ]
  },
  {
   "cell_type": "code",
   "execution_count": 33,
   "id": "53e382f3-9766-47e2-9206-9e3aa5084da7",
   "metadata": {
    "tags": []
   },
   "outputs": [],
   "source": [
    "@dsl.component(\n",
    "    base_image='python:3.8',\n",
    "    packages_to_install=['google-cloud-storage','numpy', 'pandas', 'scikit-learn']\n",
    ")\n",
    "def prediction_probability() -> str:\n",
    "    # Write data to GCS bucket\n",
    "    from google.cloud import storage\n",
    "    import pandas as pd\n",
    "    import numpy as np\n",
    "    import pickle\n",
    "    \n",
    "    bucket_name = 'mtp-yusuf-kubeflowpipelines-default'\n",
    "    \n",
    "    # Load data\n",
    "    storage_client = storage.Client()\n",
    "    bucket = storage_client.bucket(bucket_name)\n",
    "    \n",
    "    # Load model from GCS\n",
    "    model_blob = bucket.blob('data/model.pkl')\n",
    "    with model_blob.open(\"rb\") as f:\n",
    "        logistic_reg_model = pickle.load(f)\n",
    "    \n",
    "    # Load X_test from GCS\n",
    "    X_test_blob = bucket.blob('data/X_test.npy')\n",
    "    with X_test_blob.open(\"rb\") as f:\n",
    "        X_test = np.load(f, allow_pickle=True)\n",
    "    \n",
    "    # Predict probabilities on test data\n",
    "    y_pred_prob = logistic_reg_model.predict_proba(X_test)\n",
    "    \n",
    "    # Save predicted probabilities to GCS\n",
    "    y_pred_prob_blob = bucket.blob('data/y_pred_prob.npy')\n",
    "    with y_pred_prob_blob.open(\"wb\") as f:\n",
    "        np.save(f, y_pred_prob)\n",
    "    \n",
    "    return f'gs://{bucket_name}/data/'\n"
   ]
  },
  {
   "cell_type": "code",
   "execution_count": 34,
   "id": "82a717c6-2842-4ec1-92ed-6bc53bfb801b",
   "metadata": {
    "tags": []
   },
   "outputs": [],
   "source": [
    "@dsl.component(\n",
    "    base_image='python:3.8',\n",
    "    packages_to_install=['google-cloud-storage','numpy', 'pandas', 'scikit-learn']\n",
    ")\n",
    "def metrics() -> str:\n",
    "    # Write data to GCS bucket\n",
    "    from google.cloud import storage\n",
    "    import pandas as pd\n",
    "    import numpy as np\n",
    "    from sklearn.metrics import accuracy_score, precision_score, recall_score, log_loss, classification_report\n",
    "    \n",
    "    bucket_name = 'mtp-yusuf-kubeflowpipelines-default'\n",
    "    \n",
    "    # Load data\n",
    "    storage_client = storage.Client()\n",
    "    bucket = storage_client.bucket(bucket_name)\n",
    "    \n",
    "    # Load y_test, y_pred, and y_pred_prob from GCS\n",
    "    y_test_blob = bucket.blob('data/y_test.npy')\n",
    "    with y_test_blob.open(\"rb\") as f:\n",
    "        y_test = np.load(f, allow_pickle=True)\n",
    "    \n",
    "    y_pred_blob = bucket.blob('data/y_pred.npy')\n",
    "    with y_pred_blob.open(\"rb\") as f:\n",
    "        y_pred = np.load(f, allow_pickle=True)\n",
    "    \n",
    "    y_pred_prob_blob = bucket.blob('data/y_pred_prob.npy')\n",
    "    with y_pred_prob_blob.open(\"rb\") as f:\n",
    "        y_pred_prob = np.load(f, allow_pickle=True)\n",
    "    \n",
    "    # Calculate metrics\n",
    "    acc = accuracy_score(y_test, y_pred)\n",
    "    prec = precision_score(y_test, y_pred, average='micro')\n",
    "    recall = recall_score(y_test, y_pred, average='micro')\n",
    "    entropy = log_loss(y_test, y_pred_prob)\n",
    "    \n",
    "    # Generate classification report\n",
    "    report = classification_report(y_test, y_pred)\n",
    "    print(report)\n",
    "    \n",
    "    # Print and return metrics\n",
    "    metrics_dict = {'accuracy': round(acc, 2), 'precision': round(prec, 2), 'recall': round(recall, 2), 'entropy': round(entropy, 2)}\n",
    "    print(\"\\n Model Metrics:\", metrics_dict)\n",
    "    \n",
    "    return f'gs://{bucket_name}/data/'\n"
   ]
  },
  {
   "cell_type": "code",
   "execution_count": 35,
   "id": "676b9d9b-8fc7-4cb3-bbec-45d8c0490104",
   "metadata": {
    "tags": []
   },
   "outputs": [],
   "source": [
    "import kfp.dsl as dsl\n",
    "\n",
    "@dsl.pipeline(\n",
    "    name = f'kfp-{NOTEBOOK}-{DATANAME}-{TIMESTAMP}',\n",
    "    pipeline_root = URI+'/'+str(TIMESTAMP)+'/kfp/'\n",
    ")\n",
    "def my_pipeline():\n",
    "    # Define tasks\n",
    "    task1 = data_preparation()\n",
    "    task1.set_caching_options(False)\n",
    "    task2 = train_test_split()\n",
    "    task2.set_caching_options(False)\n",
    "    task3 = training()\n",
    "    task3.set_caching_options(False)\n",
    "    task4 = predictions()\n",
    "    task4.set_caching_options(False)\n",
    "    task5 = prediction_probability()\n",
    "    task5.set_caching_options(False)\n",
    "    task6 = metrics()\n",
    "    task6.set_caching_options(False)\n",
    "\n",
    "    # Define dependencies\n",
    "    task2.after(task1)\n",
    "    task3.after(task2)\n",
    "    task4.after(task3, task2)\n",
    "    task5.after(task4)\n",
    "    task6.after(task4, task5)\n"
   ]
  },
  {
   "cell_type": "code",
   "execution_count": 36,
   "id": "6448a0c1-4d1e-4c8b-9dfd-3c1ffedb3478",
   "metadata": {
    "tags": []
   },
   "outputs": [],
   "source": [
    "# Compile the pipeline\n",
    "pipeline_file = 't1_kfp_pipeline_sm.yaml'\n",
    "kfp.compiler.Compiler().compile(my_pipeline, pipeline_file)"
   ]
  },
  {
   "cell_type": "code",
   "execution_count": 37,
   "id": "e02f63f4-c508-4b1a-abc4-d34273ba69f2",
   "metadata": {
    "tags": []
   },
   "outputs": [],
   "source": [
    "compiler.Compiler().compile(\n",
    "    pipeline_func = my_pipeline,\n",
    "    package_path = f\"{DIR}/{NOTEBOOK}.json\"\n",
    ")"
   ]
  },
  {
   "cell_type": "code",
   "execution_count": 38,
   "id": "3a5aa7b2-dfbe-4d4c-9c96-208a53c20eed",
   "metadata": {
    "tags": []
   },
   "outputs": [
    {
     "name": "stdout",
     "output_type": "stream",
     "text": [
      "Copying file://temp/mynotebook/mynotebook.json [Content-Type=application/json]...\n",
      "/ [1 files][ 17.1 KiB/ 17.1 KiB]                                                \n",
      "Operation completed over 1 objects/17.1 KiB.                                     \n"
     ]
    }
   ],
   "source": [
    "!gsutil cp {DIR}/{NOTEBOOK}.json {URI}/{TIMESTAMP}/kfp/"
   ]
  },
  {
   "cell_type": "code",
   "execution_count": 39,
   "id": "5fecd2e8-a7b4-4821-87b6-566534dd90cb",
   "metadata": {
    "tags": []
   },
   "outputs": [],
   "source": [
    "pipeline = aiplatform.PipelineJob(\n",
    "    display_name = f'{NOTEBOOK}_{DATANAME}_{TIMESTAMP}',\n",
    "    template_path = f\"{URI}/{TIMESTAMP}/kfp/{NOTEBOOK}.json\",\n",
    "    labels = {'notebook': NOTEBOOK},\n",
    "    enable_caching=False\n",
    ")"
   ]
  },
  {
   "cell_type": "code",
   "execution_count": null,
   "id": "98b24020-87f0-46ac-916f-619ed298f9c2",
   "metadata": {
    "tags": []
   },
   "outputs": [
    {
     "name": "stdout",
     "output_type": "stream",
     "text": [
      "Creating PipelineJob\n",
      "PipelineJob created. Resource name: projects/1042216787272/locations/us-central1/pipelineJobs/kfp-mynotebook-mymodel-20240618165810-20240618165821\n",
      "To use this PipelineJob in another session:\n",
      "pipeline_job = aiplatform.PipelineJob.get('projects/1042216787272/locations/us-central1/pipelineJobs/kfp-mynotebook-mymodel-20240618165810-20240618165821')\n",
      "View Pipeline Job:\n",
      "https://console.cloud.google.com/vertex-ai/locations/us-central1/pipelines/runs/kfp-mynotebook-mymodel-20240618165810-20240618165821?project=1042216787272\n",
      "PipelineJob projects/1042216787272/locations/us-central1/pipelineJobs/kfp-mynotebook-mymodel-20240618165810-20240618165821 current state:\n",
      "PipelineState.PIPELINE_STATE_RUNNING\n",
      "PipelineJob projects/1042216787272/locations/us-central1/pipelineJobs/kfp-mynotebook-mymodel-20240618165810-20240618165821 current state:\n",
      "PipelineState.PIPELINE_STATE_RUNNING\n",
      "PipelineJob projects/1042216787272/locations/us-central1/pipelineJobs/kfp-mynotebook-mymodel-20240618165810-20240618165821 current state:\n",
      "PipelineState.PIPELINE_STATE_RUNNING\n",
      "PipelineJob projects/1042216787272/locations/us-central1/pipelineJobs/kfp-mynotebook-mymodel-20240618165810-20240618165821 current state:\n",
      "PipelineState.PIPELINE_STATE_RUNNING\n",
      "PipelineJob projects/1042216787272/locations/us-central1/pipelineJobs/kfp-mynotebook-mymodel-20240618165810-20240618165821 current state:\n",
      "PipelineState.PIPELINE_STATE_RUNNING\n",
      "PipelineJob projects/1042216787272/locations/us-central1/pipelineJobs/kfp-mynotebook-mymodel-20240618165810-20240618165821 current state:\n",
      "PipelineState.PIPELINE_STATE_RUNNING\n",
      "PipelineJob projects/1042216787272/locations/us-central1/pipelineJobs/kfp-mynotebook-mymodel-20240618165810-20240618165821 current state:\n",
      "PipelineState.PIPELINE_STATE_RUNNING\n"
     ]
    }
   ],
   "source": [
    "response = pipeline.run(\n",
    "    service_account = service_account\n",
    ")"
   ]
  },
  {
   "cell_type": "code",
   "execution_count": 52,
   "id": "aa8f72a6-4830-40f3-8375-dbacc9fd82a6",
   "metadata": {
    "tags": []
   },
   "outputs": [
    {
     "name": "stdout",
     "output_type": "stream",
     "text": [
      "Requirement already satisfied: tabulate in /opt/conda/lib/python3.10/site-packages (0.9.0)\n",
      "Note: you may need to restart the kernel to use updated packages.\n"
     ]
    }
   ],
   "source": [
    "pip install tabulate\n"
   ]
  },
  {
   "cell_type": "code",
   "execution_count": 53,
   "id": "5e4d096f-2ad2-479b-9466-b283f6d22aef",
   "metadata": {
    "tags": []
   },
   "outputs": [
    {
     "name": "stdout",
     "output_type": "stream",
     "text": [
      "+----------------+---------------+----------------+---------------+-----------------+\n",
      "|   sepal-length |   sepal-width |   petal-length |   petal-width | class           |\n",
      "+================+===============+================+===============+=================+\n",
      "|            \u001b[36m5.8\u001b[0m |           \u001b[36m2.6\u001b[0m |            \u001b[36m4\u001b[0m   |           \u001b[36m1.2\u001b[0m | \u001b[36mIris-versicolor\u001b[0m |\n",
      "+----------------+---------------+----------------+---------------+-----------------+\n",
      "|            \u001b[36m5\u001b[0m   |           \u001b[36m3.3\u001b[0m |            \u001b[36m1.4\u001b[0m |           \u001b[36m0.2\u001b[0m | \u001b[36mIris-setosa\u001b[0m     |\n",
      "+----------------+---------------+----------------+---------------+-----------------+\n",
      "|            \u001b[36m5\u001b[0m   |           \u001b[36m3\u001b[0m   |            \u001b[36m1.6\u001b[0m |           \u001b[36m0.2\u001b[0m | \u001b[36mIris-setosa\u001b[0m     |\n",
      "+----------------+---------------+----------------+---------------+-----------------+\n",
      "|            \u001b[36m7.3\u001b[0m |           \u001b[36m2.9\u001b[0m |            \u001b[36m6.3\u001b[0m |           \u001b[36m1.8\u001b[0m | \u001b[36mIris-virginica\u001b[0m  |\n",
      "+----------------+---------------+----------------+---------------+-----------------+\n",
      "|            \u001b[36m5.4\u001b[0m |           \u001b[36m3.7\u001b[0m |            \u001b[36m1.5\u001b[0m |           \u001b[36m0.2\u001b[0m | \u001b[36mIris-setosa\u001b[0m     |\n",
      "+----------------+---------------+----------------+---------------+-----------------+\n"
     ]
    }
   ],
   "source": [
    "import pandas as pd\n",
    "from tabulate import tabulate\n",
    "from termcolor import colored\n",
    "\n",
    "# Load the dataset into a DataFrame\n",
    "# Replace 'path/to/your/dataset.csv' with the actual file path\n",
    "df = pd.read_csv('gs://mtp-yusuf-kubeflowpipelines-default/data/iris.csv')\n",
    "\n",
    "# Display a random sample of 5 rows\n",
    "random_sample = df.sample(n=5)\n",
    "\n",
    "# Convert the sample to a list of lists for tabulate\n",
    "table_data = random_sample.values.tolist()\n",
    "\n",
    "# Define headers\n",
    "headers = random_sample.columns.tolist()\n",
    "\n",
    "# Add color to the rows\n",
    "colored_table_data = [\n",
    "    [colored(cell, 'cyan') for cell in row] for row in table_data\n",
    "]\n",
    "\n",
    "# Create and print the table using tabulate\n",
    "table = tabulate(colored_table_data, headers=headers, tablefmt='grid')\n",
    "print(table)\n",
    "\n"
   ]
  },
  {
   "cell_type": "code",
   "execution_count": 54,
   "id": "040ccbaf-9191-47ea-b89c-f5b11aab4500",
   "metadata": {
    "tags": []
   },
   "outputs": [
    {
     "data": {
      "text/html": [
       "<style type=\"text/css\">\n",
       "#T_3f9c9_row0_col0, #T_3f9c9_row0_col1, #T_3f9c9_row0_col2, #T_3f9c9_row0_col3, #T_3f9c9_row0_col4, #T_3f9c9_row1_col0, #T_3f9c9_row1_col1, #T_3f9c9_row1_col2, #T_3f9c9_row1_col3, #T_3f9c9_row1_col4, #T_3f9c9_row2_col0, #T_3f9c9_row2_col1, #T_3f9c9_row2_col2, #T_3f9c9_row2_col3, #T_3f9c9_row2_col4, #T_3f9c9_row3_col0, #T_3f9c9_row3_col1, #T_3f9c9_row3_col2, #T_3f9c9_row3_col3, #T_3f9c9_row3_col4, #T_3f9c9_row4_col0, #T_3f9c9_row4_col1, #T_3f9c9_row4_col2, #T_3f9c9_row4_col3, #T_3f9c9_row4_col4 {\n",
       "  background-color: #e6f7ff;\n",
       "}\n",
       "</style>\n",
       "<table id=\"T_3f9c9\">\n",
       "  <thead>\n",
       "    <tr>\n",
       "      <th class=\"blank level0\" >&nbsp;</th>\n",
       "      <th id=\"T_3f9c9_level0_col0\" class=\"col_heading level0 col0\" >sepal-length</th>\n",
       "      <th id=\"T_3f9c9_level0_col1\" class=\"col_heading level0 col1\" >sepal-width</th>\n",
       "      <th id=\"T_3f9c9_level0_col2\" class=\"col_heading level0 col2\" >petal-length</th>\n",
       "      <th id=\"T_3f9c9_level0_col3\" class=\"col_heading level0 col3\" >petal-width</th>\n",
       "      <th id=\"T_3f9c9_level0_col4\" class=\"col_heading level0 col4\" >class</th>\n",
       "    </tr>\n",
       "  </thead>\n",
       "  <tbody>\n",
       "    <tr>\n",
       "      <th id=\"T_3f9c9_level0_row0\" class=\"row_heading level0 row0\" >19</th>\n",
       "      <td id=\"T_3f9c9_row0_col0\" class=\"data row0 col0\" >5.100000</td>\n",
       "      <td id=\"T_3f9c9_row0_col1\" class=\"data row0 col1\" >3.800000</td>\n",
       "      <td id=\"T_3f9c9_row0_col2\" class=\"data row0 col2\" >1.500000</td>\n",
       "      <td id=\"T_3f9c9_row0_col3\" class=\"data row0 col3\" >0.300000</td>\n",
       "      <td id=\"T_3f9c9_row0_col4\" class=\"data row0 col4\" >Iris-setosa</td>\n",
       "    </tr>\n",
       "    <tr>\n",
       "      <th id=\"T_3f9c9_level0_row1\" class=\"row_heading level0 row1\" >50</th>\n",
       "      <td id=\"T_3f9c9_row1_col0\" class=\"data row1 col0\" >7.000000</td>\n",
       "      <td id=\"T_3f9c9_row1_col1\" class=\"data row1 col1\" >3.200000</td>\n",
       "      <td id=\"T_3f9c9_row1_col2\" class=\"data row1 col2\" >4.700000</td>\n",
       "      <td id=\"T_3f9c9_row1_col3\" class=\"data row1 col3\" >1.400000</td>\n",
       "      <td id=\"T_3f9c9_row1_col4\" class=\"data row1 col4\" >Iris-versicolor</td>\n",
       "    </tr>\n",
       "    <tr>\n",
       "      <th id=\"T_3f9c9_level0_row2\" class=\"row_heading level0 row2\" >61</th>\n",
       "      <td id=\"T_3f9c9_row2_col0\" class=\"data row2 col0\" >5.900000</td>\n",
       "      <td id=\"T_3f9c9_row2_col1\" class=\"data row2 col1\" >3.000000</td>\n",
       "      <td id=\"T_3f9c9_row2_col2\" class=\"data row2 col2\" >4.200000</td>\n",
       "      <td id=\"T_3f9c9_row2_col3\" class=\"data row2 col3\" >1.500000</td>\n",
       "      <td id=\"T_3f9c9_row2_col4\" class=\"data row2 col4\" >Iris-versicolor</td>\n",
       "    </tr>\n",
       "    <tr>\n",
       "      <th id=\"T_3f9c9_level0_row3\" class=\"row_heading level0 row3\" >139</th>\n",
       "      <td id=\"T_3f9c9_row3_col0\" class=\"data row3 col0\" >6.900000</td>\n",
       "      <td id=\"T_3f9c9_row3_col1\" class=\"data row3 col1\" >3.100000</td>\n",
       "      <td id=\"T_3f9c9_row3_col2\" class=\"data row3 col2\" >5.400000</td>\n",
       "      <td id=\"T_3f9c9_row3_col3\" class=\"data row3 col3\" >2.100000</td>\n",
       "      <td id=\"T_3f9c9_row3_col4\" class=\"data row3 col4\" >Iris-virginica</td>\n",
       "    </tr>\n",
       "    <tr>\n",
       "      <th id=\"T_3f9c9_level0_row4\" class=\"row_heading level0 row4\" >100</th>\n",
       "      <td id=\"T_3f9c9_row4_col0\" class=\"data row4 col0\" >6.300000</td>\n",
       "      <td id=\"T_3f9c9_row4_col1\" class=\"data row4 col1\" >3.300000</td>\n",
       "      <td id=\"T_3f9c9_row4_col2\" class=\"data row4 col2\" >6.000000</td>\n",
       "      <td id=\"T_3f9c9_row4_col3\" class=\"data row4 col3\" >2.500000</td>\n",
       "      <td id=\"T_3f9c9_row4_col4\" class=\"data row4 col4\" >Iris-virginica</td>\n",
       "    </tr>\n",
       "  </tbody>\n",
       "</table>\n"
      ],
      "text/plain": [
       "<pandas.io.formats.style.Styler at 0x7f83783c7e20>"
      ]
     },
     "execution_count": 54,
     "metadata": {},
     "output_type": "execute_result"
    }
   ],
   "source": [
    "import pandas as pd\n",
    "\n",
    "# Load the dataset into a DataFrame\n",
    "# Replace 'path/to/your/dataset.csv' with the actual file path\n",
    "df = pd.read_csv('gs://mtp-yusuf-kubeflowpipelines-default/data/iris.csv')\n",
    "\n",
    "# Display a random sample of 5 rows\n",
    "random_sample = df.sample(n=5)\n",
    "\n",
    "# Apply color formatting and display the sample in a styled table\n",
    "def highlight_row(row):\n",
    "    # Define a style for the entire row with a lighter shade of blue\n",
    "    return ['background-color: #e6f7ff'] * len(row)\n",
    "\n",
    "styled_sample = random_sample.style.apply(highlight_row, axis=1)\n",
    "\n",
    "# Display the styled sample\n",
    "styled_sample\n"
   ]
  },
  {
   "cell_type": "code",
   "execution_count": null,
   "id": "b73f7c1d-dfa4-4894-9412-9642a12f377d",
   "metadata": {},
   "outputs": [],
   "source": []
  }
 ],
 "metadata": {
  "environment": {
   "kernel": "python3",
   "name": "tf2-cpu.2-11.m121",
   "type": "gcloud",
   "uri": "us-docker.pkg.dev/deeplearning-platform-release/gcr.io/tf2-cpu.2-11:m121"
  },
  "kernelspec": {
   "display_name": "Python 3 (Local)",
   "language": "python",
   "name": "python3"
  },
  "language_info": {
   "codemirror_mode": {
    "name": "ipython",
    "version": 3
   },
   "file_extension": ".py",
   "mimetype": "text/x-python",
   "name": "python",
   "nbconvert_exporter": "python",
   "pygments_lexer": "ipython3",
   "version": "3.10.14"
  }
 },
 "nbformat": 4,
 "nbformat_minor": 5
}
